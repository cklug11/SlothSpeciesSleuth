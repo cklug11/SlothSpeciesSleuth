{
 "cells": [
  {
   "cell_type": "code",
   "execution_count": 191,
   "id": "afbfb525-c29d-4b2a-b24b-10a2a57418a1",
   "metadata": {},
   "outputs": [],
   "source": [
    "!pip install pandas scikit-learn matplotlib ipywidgets IPython\n"
   ]
  },
  {
   "cell_type": "code",
   "execution_count": 192,
   "id": "6cb87c9d-95e6-4dd5-8d0e-4d66645a8f00",
   "metadata": {},
   "outputs": [],
   "source": [
    "import pandas as pd\n",
    "import matplotlib.pyplot as plt\n",
    "from sklearn.metrics import classification_report\n",
    "from sklearn.model_selection import train_test_split\n",
    "from sklearn.linear_model import LogisticRegression\n",
    "from sklearn.metrics import accuracy_score\n",
    "from sklearn.preprocessing import StandardScaler\n",
    "from sklearn.metrics import confusion_matrix, ConfusionMatrixDisplay\n",
    "import ipywidgets as widgets\n",
    "from IPython.display import display"
   ]
  },
  {
   "cell_type": "code",
   "execution_count": 193,
   "id": "f7d493bd-c764-4504-bb04-64a820a06ffd",
   "metadata": {},
   "outputs": [
    {
     "data": {
      "text/html": [
       "<div>\n",
       "<style scoped>\n",
       "    .dataframe tbody tr th:only-of-type {\n",
       "        vertical-align: middle;\n",
       "    }\n",
       "\n",
       "    .dataframe tbody tr th {\n",
       "        vertical-align: top;\n",
       "    }\n",
       "\n",
       "    .dataframe thead th {\n",
       "        text-align: right;\n",
       "    }\n",
       "</style>\n",
       "<table border=\"1\" class=\"dataframe\">\n",
       "  <thead>\n",
       "    <tr style=\"text-align: right;\">\n",
       "      <th></th>\n",
       "      <th>Unnamed: 0</th>\n",
       "      <th>claw_length_cm</th>\n",
       "      <th>endangered</th>\n",
       "      <th>size_cm</th>\n",
       "      <th>specie</th>\n",
       "      <th>sub_specie</th>\n",
       "      <th>tail_length_cm</th>\n",
       "      <th>weight_kg</th>\n",
       "    </tr>\n",
       "  </thead>\n",
       "  <tbody>\n",
       "    <tr>\n",
       "      <th>0</th>\n",
       "      <td>0</td>\n",
       "      <td>6.825</td>\n",
       "      <td>critically_endangered</td>\n",
       "      <td>52.004</td>\n",
       "      <td>three_toed</td>\n",
       "      <td>Pygmy three-toed sloth</td>\n",
       "      <td>4.448</td>\n",
       "      <td>3.570</td>\n",
       "    </tr>\n",
       "    <tr>\n",
       "      <th>1</th>\n",
       "      <td>1</td>\n",
       "      <td>8.260</td>\n",
       "      <td>critically_endangered</td>\n",
       "      <td>50.082</td>\n",
       "      <td>three_toed</td>\n",
       "      <td>Pygmy three-toed sloth</td>\n",
       "      <td>6.286</td>\n",
       "      <td>2.844</td>\n",
       "    </tr>\n",
       "    <tr>\n",
       "      <th>2</th>\n",
       "      <td>2</td>\n",
       "      <td>8.662</td>\n",
       "      <td>critically_endangered</td>\n",
       "      <td>51.498</td>\n",
       "      <td>three_toed</td>\n",
       "      <td>Pygmy three-toed sloth</td>\n",
       "      <td>4.551</td>\n",
       "      <td>1.259</td>\n",
       "    </tr>\n",
       "    <tr>\n",
       "      <th>3</th>\n",
       "      <td>3</td>\n",
       "      <td>8.467</td>\n",
       "      <td>critically_endangered</td>\n",
       "      <td>50.122</td>\n",
       "      <td>three_toed</td>\n",
       "      <td>Pygmy three-toed sloth</td>\n",
       "      <td>6.983</td>\n",
       "      <td>2.392</td>\n",
       "    </tr>\n",
       "    <tr>\n",
       "      <th>4</th>\n",
       "      <td>4</td>\n",
       "      <td>7.104</td>\n",
       "      <td>critically_endangered</td>\n",
       "      <td>51.364</td>\n",
       "      <td>three_toed</td>\n",
       "      <td>Pygmy three-toed sloth</td>\n",
       "      <td>5.411</td>\n",
       "      <td>3.163</td>\n",
       "    </tr>\n",
       "    <tr>\n",
       "      <th>...</th>\n",
       "      <td>...</td>\n",
       "      <td>...</td>\n",
       "      <td>...</td>\n",
       "      <td>...</td>\n",
       "      <td>...</td>\n",
       "      <td>...</td>\n",
       "      <td>...</td>\n",
       "      <td>...</td>\n",
       "    </tr>\n",
       "    <tr>\n",
       "      <th>4995</th>\n",
       "      <td>4995</td>\n",
       "      <td>3.919</td>\n",
       "      <td>least_concern</td>\n",
       "      <td>62.819</td>\n",
       "      <td>two_toed</td>\n",
       "      <td>Hoffman’s two-toed sloth</td>\n",
       "      <td>3.176</td>\n",
       "      <td>4.247</td>\n",
       "    </tr>\n",
       "    <tr>\n",
       "      <th>4996</th>\n",
       "      <td>4996</td>\n",
       "      <td>5.881</td>\n",
       "      <td>least_concern</td>\n",
       "      <td>63.150</td>\n",
       "      <td>two_toed</td>\n",
       "      <td>Hoffman’s two-toed sloth</td>\n",
       "      <td>1.535</td>\n",
       "      <td>4.056</td>\n",
       "    </tr>\n",
       "    <tr>\n",
       "      <th>4997</th>\n",
       "      <td>4997</td>\n",
       "      <td>4.941</td>\n",
       "      <td>least_concern</td>\n",
       "      <td>62.091</td>\n",
       "      <td>two_toed</td>\n",
       "      <td>Hoffman’s two-toed sloth</td>\n",
       "      <td>1.905</td>\n",
       "      <td>5.194</td>\n",
       "    </tr>\n",
       "    <tr>\n",
       "      <th>4998</th>\n",
       "      <td>4998</td>\n",
       "      <td>6.176</td>\n",
       "      <td>least_concern</td>\n",
       "      <td>62.039</td>\n",
       "      <td>two_toed</td>\n",
       "      <td>Hoffman’s two-toed sloth</td>\n",
       "      <td>1.164</td>\n",
       "      <td>5.035</td>\n",
       "    </tr>\n",
       "    <tr>\n",
       "      <th>4999</th>\n",
       "      <td>4999</td>\n",
       "      <td>3.494</td>\n",
       "      <td>least_concern</td>\n",
       "      <td>64.043</td>\n",
       "      <td>two_toed</td>\n",
       "      <td>Hoffman’s two-toed sloth</td>\n",
       "      <td>1.512</td>\n",
       "      <td>6.384</td>\n",
       "    </tr>\n",
       "  </tbody>\n",
       "</table>\n",
       "<p>5000 rows × 8 columns</p>\n",
       "</div>"
      ],
      "text/plain": [
       "      Unnamed: 0  claw_length_cm             endangered  size_cm      specie  \\\n",
       "0              0           6.825  critically_endangered   52.004  three_toed   \n",
       "1              1           8.260  critically_endangered   50.082  three_toed   \n",
       "2              2           8.662  critically_endangered   51.498  three_toed   \n",
       "3              3           8.467  critically_endangered   50.122  three_toed   \n",
       "4              4           7.104  critically_endangered   51.364  three_toed   \n",
       "...          ...             ...                    ...      ...         ...   \n",
       "4995        4995           3.919          least_concern   62.819    two_toed   \n",
       "4996        4996           5.881          least_concern   63.150    two_toed   \n",
       "4997        4997           4.941          least_concern   62.091    two_toed   \n",
       "4998        4998           6.176          least_concern   62.039    two_toed   \n",
       "4999        4999           3.494          least_concern   64.043    two_toed   \n",
       "\n",
       "                    sub_specie  tail_length_cm  weight_kg  \n",
       "0       Pygmy three-toed sloth           4.448      3.570  \n",
       "1       Pygmy three-toed sloth           6.286      2.844  \n",
       "2       Pygmy three-toed sloth           4.551      1.259  \n",
       "3       Pygmy three-toed sloth           6.983      2.392  \n",
       "4       Pygmy three-toed sloth           5.411      3.163  \n",
       "...                        ...             ...        ...  \n",
       "4995  Hoffman’s two-toed sloth           3.176      4.247  \n",
       "4996  Hoffman’s two-toed sloth           1.535      4.056  \n",
       "4997  Hoffman’s two-toed sloth           1.905      5.194  \n",
       "4998  Hoffman’s two-toed sloth           1.164      5.035  \n",
       "4999  Hoffman’s two-toed sloth           1.512      6.384  \n",
       "\n",
       "[5000 rows x 8 columns]"
      ]
     },
     "execution_count": 193,
     "metadata": {},
     "output_type": "execute_result"
    }
   ],
   "source": [
    "df = pd.read_csv('sloth_data.csv')\n",
    "df"
   ]
  },
  {
   "cell_type": "code",
   "execution_count": 194,
   "id": "91af3bef-15fd-42e0-ae88-2a3c3495d955",
   "metadata": {},
   "outputs": [
    {
     "data": {
      "text/html": [
       "<div>\n",
       "<style scoped>\n",
       "    .dataframe tbody tr th:only-of-type {\n",
       "        vertical-align: middle;\n",
       "    }\n",
       "\n",
       "    .dataframe tbody tr th {\n",
       "        vertical-align: top;\n",
       "    }\n",
       "\n",
       "    .dataframe thead th {\n",
       "        text-align: right;\n",
       "    }\n",
       "</style>\n",
       "<table border=\"1\" class=\"dataframe\">\n",
       "  <thead>\n",
       "    <tr style=\"text-align: right;\">\n",
       "      <th></th>\n",
       "      <th>claw_length_cm</th>\n",
       "      <th>size_cm</th>\n",
       "      <th>specie</th>\n",
       "      <th>sub_specie</th>\n",
       "      <th>tail_length_cm</th>\n",
       "      <th>weight_kg</th>\n",
       "    </tr>\n",
       "  </thead>\n",
       "  <tbody>\n",
       "    <tr>\n",
       "      <th>0</th>\n",
       "      <td>6.825</td>\n",
       "      <td>52.004</td>\n",
       "      <td>three_toed</td>\n",
       "      <td>Pygmy three-toed sloth</td>\n",
       "      <td>4.448</td>\n",
       "      <td>3.570</td>\n",
       "    </tr>\n",
       "    <tr>\n",
       "      <th>1</th>\n",
       "      <td>8.260</td>\n",
       "      <td>50.082</td>\n",
       "      <td>three_toed</td>\n",
       "      <td>Pygmy three-toed sloth</td>\n",
       "      <td>6.286</td>\n",
       "      <td>2.844</td>\n",
       "    </tr>\n",
       "    <tr>\n",
       "      <th>2</th>\n",
       "      <td>8.662</td>\n",
       "      <td>51.498</td>\n",
       "      <td>three_toed</td>\n",
       "      <td>Pygmy three-toed sloth</td>\n",
       "      <td>4.551</td>\n",
       "      <td>1.259</td>\n",
       "    </tr>\n",
       "    <tr>\n",
       "      <th>3</th>\n",
       "      <td>8.467</td>\n",
       "      <td>50.122</td>\n",
       "      <td>three_toed</td>\n",
       "      <td>Pygmy three-toed sloth</td>\n",
       "      <td>6.983</td>\n",
       "      <td>2.392</td>\n",
       "    </tr>\n",
       "    <tr>\n",
       "      <th>4</th>\n",
       "      <td>7.104</td>\n",
       "      <td>51.364</td>\n",
       "      <td>three_toed</td>\n",
       "      <td>Pygmy three-toed sloth</td>\n",
       "      <td>5.411</td>\n",
       "      <td>3.163</td>\n",
       "    </tr>\n",
       "    <tr>\n",
       "      <th>...</th>\n",
       "      <td>...</td>\n",
       "      <td>...</td>\n",
       "      <td>...</td>\n",
       "      <td>...</td>\n",
       "      <td>...</td>\n",
       "      <td>...</td>\n",
       "    </tr>\n",
       "    <tr>\n",
       "      <th>4995</th>\n",
       "      <td>3.919</td>\n",
       "      <td>62.819</td>\n",
       "      <td>two_toed</td>\n",
       "      <td>Hoffman’s two-toed sloth</td>\n",
       "      <td>3.176</td>\n",
       "      <td>4.247</td>\n",
       "    </tr>\n",
       "    <tr>\n",
       "      <th>4996</th>\n",
       "      <td>5.881</td>\n",
       "      <td>63.150</td>\n",
       "      <td>two_toed</td>\n",
       "      <td>Hoffman’s two-toed sloth</td>\n",
       "      <td>1.535</td>\n",
       "      <td>4.056</td>\n",
       "    </tr>\n",
       "    <tr>\n",
       "      <th>4997</th>\n",
       "      <td>4.941</td>\n",
       "      <td>62.091</td>\n",
       "      <td>two_toed</td>\n",
       "      <td>Hoffman’s two-toed sloth</td>\n",
       "      <td>1.905</td>\n",
       "      <td>5.194</td>\n",
       "    </tr>\n",
       "    <tr>\n",
       "      <th>4998</th>\n",
       "      <td>6.176</td>\n",
       "      <td>62.039</td>\n",
       "      <td>two_toed</td>\n",
       "      <td>Hoffman’s two-toed sloth</td>\n",
       "      <td>1.164</td>\n",
       "      <td>5.035</td>\n",
       "    </tr>\n",
       "    <tr>\n",
       "      <th>4999</th>\n",
       "      <td>3.494</td>\n",
       "      <td>64.043</td>\n",
       "      <td>two_toed</td>\n",
       "      <td>Hoffman’s two-toed sloth</td>\n",
       "      <td>1.512</td>\n",
       "      <td>6.384</td>\n",
       "    </tr>\n",
       "  </tbody>\n",
       "</table>\n",
       "<p>5000 rows × 6 columns</p>\n",
       "</div>"
      ],
      "text/plain": [
       "      claw_length_cm  size_cm      specie                sub_specie  \\\n",
       "0              6.825   52.004  three_toed    Pygmy three-toed sloth   \n",
       "1              8.260   50.082  three_toed    Pygmy three-toed sloth   \n",
       "2              8.662   51.498  three_toed    Pygmy three-toed sloth   \n",
       "3              8.467   50.122  three_toed    Pygmy three-toed sloth   \n",
       "4              7.104   51.364  three_toed    Pygmy three-toed sloth   \n",
       "...              ...      ...         ...                       ...   \n",
       "4995           3.919   62.819    two_toed  Hoffman’s two-toed sloth   \n",
       "4996           5.881   63.150    two_toed  Hoffman’s two-toed sloth   \n",
       "4997           4.941   62.091    two_toed  Hoffman’s two-toed sloth   \n",
       "4998           6.176   62.039    two_toed  Hoffman’s two-toed sloth   \n",
       "4999           3.494   64.043    two_toed  Hoffman’s two-toed sloth   \n",
       "\n",
       "      tail_length_cm  weight_kg  \n",
       "0              4.448      3.570  \n",
       "1              6.286      2.844  \n",
       "2              4.551      1.259  \n",
       "3              6.983      2.392  \n",
       "4              5.411      3.163  \n",
       "...              ...        ...  \n",
       "4995           3.176      4.247  \n",
       "4996           1.535      4.056  \n",
       "4997           1.905      5.194  \n",
       "4998           1.164      5.035  \n",
       "4999           1.512      6.384  \n",
       "\n",
       "[5000 rows x 6 columns]"
      ]
     },
     "execution_count": 194,
     "metadata": {},
     "output_type": "execute_result"
    }
   ],
   "source": [
    "#Get Rid of Unnecessary Columns\n",
    "df=df.drop(['Unnamed: 0','endangered'],axis=1)\n",
    "df"
   ]
  },
  {
   "cell_type": "code",
   "execution_count": 195,
   "id": "f43889e9-e4ec-43cb-a95c-392424bf5a64",
   "metadata": {},
   "outputs": [],
   "source": [
    "#Rename Columns\n",
    "df = df.rename(columns={'claw_length_cm':'Claw Length','size_cm': 'Size','specie': 'Forelimb Toe Count', 'sub_specie': 'Specie', 'tail_length_cm': 'Tail Length', 'weight_kg': 'Weight'})"
   ]
  },
  {
   "cell_type": "code",
   "execution_count": 196,
   "id": "8d661d44-0069-475d-8700-02a57636f354",
   "metadata": {},
   "outputs": [
    {
     "data": {
      "text/html": [
       "<div>\n",
       "<style scoped>\n",
       "    .dataframe tbody tr th:only-of-type {\n",
       "        vertical-align: middle;\n",
       "    }\n",
       "\n",
       "    .dataframe tbody tr th {\n",
       "        vertical-align: top;\n",
       "    }\n",
       "\n",
       "    .dataframe thead th {\n",
       "        text-align: right;\n",
       "    }\n",
       "</style>\n",
       "<table border=\"1\" class=\"dataframe\">\n",
       "  <thead>\n",
       "    <tr style=\"text-align: right;\">\n",
       "      <th></th>\n",
       "      <th>Claw Length</th>\n",
       "      <th>Size</th>\n",
       "      <th>Forelimb Toe Count</th>\n",
       "      <th>Specie</th>\n",
       "      <th>Tail Length</th>\n",
       "      <th>Weight</th>\n",
       "    </tr>\n",
       "  </thead>\n",
       "  <tbody>\n",
       "    <tr>\n",
       "      <th>0</th>\n",
       "      <td>6.825</td>\n",
       "      <td>52.004</td>\n",
       "      <td>three_toed</td>\n",
       "      <td>Pygmy three-toed sloth</td>\n",
       "      <td>4.448</td>\n",
       "      <td>3.570</td>\n",
       "    </tr>\n",
       "    <tr>\n",
       "      <th>1</th>\n",
       "      <td>8.260</td>\n",
       "      <td>50.082</td>\n",
       "      <td>three_toed</td>\n",
       "      <td>Pygmy three-toed sloth</td>\n",
       "      <td>6.286</td>\n",
       "      <td>2.844</td>\n",
       "    </tr>\n",
       "    <tr>\n",
       "      <th>2</th>\n",
       "      <td>8.662</td>\n",
       "      <td>51.498</td>\n",
       "      <td>three_toed</td>\n",
       "      <td>Pygmy three-toed sloth</td>\n",
       "      <td>4.551</td>\n",
       "      <td>1.259</td>\n",
       "    </tr>\n",
       "    <tr>\n",
       "      <th>3</th>\n",
       "      <td>8.467</td>\n",
       "      <td>50.122</td>\n",
       "      <td>three_toed</td>\n",
       "      <td>Pygmy three-toed sloth</td>\n",
       "      <td>6.983</td>\n",
       "      <td>2.392</td>\n",
       "    </tr>\n",
       "    <tr>\n",
       "      <th>4</th>\n",
       "      <td>7.104</td>\n",
       "      <td>51.364</td>\n",
       "      <td>three_toed</td>\n",
       "      <td>Pygmy three-toed sloth</td>\n",
       "      <td>5.411</td>\n",
       "      <td>3.163</td>\n",
       "    </tr>\n",
       "    <tr>\n",
       "      <th>...</th>\n",
       "      <td>...</td>\n",
       "      <td>...</td>\n",
       "      <td>...</td>\n",
       "      <td>...</td>\n",
       "      <td>...</td>\n",
       "      <td>...</td>\n",
       "    </tr>\n",
       "    <tr>\n",
       "      <th>4995</th>\n",
       "      <td>3.919</td>\n",
       "      <td>62.819</td>\n",
       "      <td>two_toed</td>\n",
       "      <td>Hoffman’s two-toed sloth</td>\n",
       "      <td>3.176</td>\n",
       "      <td>4.247</td>\n",
       "    </tr>\n",
       "    <tr>\n",
       "      <th>4996</th>\n",
       "      <td>5.881</td>\n",
       "      <td>63.150</td>\n",
       "      <td>two_toed</td>\n",
       "      <td>Hoffman’s two-toed sloth</td>\n",
       "      <td>1.535</td>\n",
       "      <td>4.056</td>\n",
       "    </tr>\n",
       "    <tr>\n",
       "      <th>4997</th>\n",
       "      <td>4.941</td>\n",
       "      <td>62.091</td>\n",
       "      <td>two_toed</td>\n",
       "      <td>Hoffman’s two-toed sloth</td>\n",
       "      <td>1.905</td>\n",
       "      <td>5.194</td>\n",
       "    </tr>\n",
       "    <tr>\n",
       "      <th>4998</th>\n",
       "      <td>6.176</td>\n",
       "      <td>62.039</td>\n",
       "      <td>two_toed</td>\n",
       "      <td>Hoffman’s two-toed sloth</td>\n",
       "      <td>1.164</td>\n",
       "      <td>5.035</td>\n",
       "    </tr>\n",
       "    <tr>\n",
       "      <th>4999</th>\n",
       "      <td>3.494</td>\n",
       "      <td>64.043</td>\n",
       "      <td>two_toed</td>\n",
       "      <td>Hoffman’s two-toed sloth</td>\n",
       "      <td>1.512</td>\n",
       "      <td>6.384</td>\n",
       "    </tr>\n",
       "  </tbody>\n",
       "</table>\n",
       "<p>5000 rows × 6 columns</p>\n",
       "</div>"
      ],
      "text/plain": [
       "      Claw Length    Size Forelimb Toe Count                    Specie  \\\n",
       "0           6.825  52.004         three_toed    Pygmy three-toed sloth   \n",
       "1           8.260  50.082         three_toed    Pygmy three-toed sloth   \n",
       "2           8.662  51.498         three_toed    Pygmy three-toed sloth   \n",
       "3           8.467  50.122         three_toed    Pygmy three-toed sloth   \n",
       "4           7.104  51.364         three_toed    Pygmy three-toed sloth   \n",
       "...           ...     ...                ...                       ...   \n",
       "4995        3.919  62.819           two_toed  Hoffman’s two-toed sloth   \n",
       "4996        5.881  63.150           two_toed  Hoffman’s two-toed sloth   \n",
       "4997        4.941  62.091           two_toed  Hoffman’s two-toed sloth   \n",
       "4998        6.176  62.039           two_toed  Hoffman’s two-toed sloth   \n",
       "4999        3.494  64.043           two_toed  Hoffman’s two-toed sloth   \n",
       "\n",
       "      Tail Length  Weight  \n",
       "0           4.448   3.570  \n",
       "1           6.286   2.844  \n",
       "2           4.551   1.259  \n",
       "3           6.983   2.392  \n",
       "4           5.411   3.163  \n",
       "...           ...     ...  \n",
       "4995        3.176   4.247  \n",
       "4996        1.535   4.056  \n",
       "4997        1.905   5.194  \n",
       "4998        1.164   5.035  \n",
       "4999        1.512   6.384  \n",
       "\n",
       "[5000 rows x 6 columns]"
      ]
     },
     "execution_count": 196,
     "metadata": {},
     "output_type": "execute_result"
    }
   ],
   "source": [
    "df"
   ]
  },
  {
   "cell_type": "code",
   "execution_count": 197,
   "id": "d25d6c29-da8f-498d-8585-d5283c109649",
   "metadata": {},
   "outputs": [
    {
     "name": "stdout",
     "output_type": "stream",
     "text": [
      "Claw Length           float64\n",
      "Size                  float64\n",
      "Forelimb Toe Count     object\n",
      "Specie                 object\n",
      "Tail Length           float64\n",
      "Weight                float64\n",
      "dtype: object\n"
     ]
    }
   ],
   "source": [
    "print(df.dtypes)"
   ]
  },
  {
   "cell_type": "code",
   "execution_count": 198,
   "id": "9234e338-f90d-4708-b687-dd10f84e492b",
   "metadata": {},
   "outputs": [],
   "source": [
    "#Converting Forelimb Toe Count string values to integers\n",
    "df['Forelimb Toe Count'] = df['Forelimb Toe Count'].str.replace('three_toed','3')\n",
    "df['Forelimb Toe Count'] = df['Forelimb Toe Count'].str.replace('two_toed','2')"
   ]
  },
  {
   "cell_type": "code",
   "execution_count": 199,
   "id": "bd62944f-9332-4736-a01f-9d26019829d4",
   "metadata": {},
   "outputs": [
    {
     "data": {
      "text/html": [
       "<div>\n",
       "<style scoped>\n",
       "    .dataframe tbody tr th:only-of-type {\n",
       "        vertical-align: middle;\n",
       "    }\n",
       "\n",
       "    .dataframe tbody tr th {\n",
       "        vertical-align: top;\n",
       "    }\n",
       "\n",
       "    .dataframe thead th {\n",
       "        text-align: right;\n",
       "    }\n",
       "</style>\n",
       "<table border=\"1\" class=\"dataframe\">\n",
       "  <thead>\n",
       "    <tr style=\"text-align: right;\">\n",
       "      <th></th>\n",
       "      <th>Claw Length</th>\n",
       "      <th>Size</th>\n",
       "      <th>Forelimb Toe Count</th>\n",
       "      <th>Specie</th>\n",
       "      <th>Tail Length</th>\n",
       "      <th>Weight</th>\n",
       "    </tr>\n",
       "  </thead>\n",
       "  <tbody>\n",
       "    <tr>\n",
       "      <th>0</th>\n",
       "      <td>6.825</td>\n",
       "      <td>52.004</td>\n",
       "      <td>3</td>\n",
       "      <td>Pygmy three-toed sloth</td>\n",
       "      <td>4.448</td>\n",
       "      <td>3.570</td>\n",
       "    </tr>\n",
       "    <tr>\n",
       "      <th>1</th>\n",
       "      <td>8.260</td>\n",
       "      <td>50.082</td>\n",
       "      <td>3</td>\n",
       "      <td>Pygmy three-toed sloth</td>\n",
       "      <td>6.286</td>\n",
       "      <td>2.844</td>\n",
       "    </tr>\n",
       "    <tr>\n",
       "      <th>2</th>\n",
       "      <td>8.662</td>\n",
       "      <td>51.498</td>\n",
       "      <td>3</td>\n",
       "      <td>Pygmy three-toed sloth</td>\n",
       "      <td>4.551</td>\n",
       "      <td>1.259</td>\n",
       "    </tr>\n",
       "    <tr>\n",
       "      <th>3</th>\n",
       "      <td>8.467</td>\n",
       "      <td>50.122</td>\n",
       "      <td>3</td>\n",
       "      <td>Pygmy three-toed sloth</td>\n",
       "      <td>6.983</td>\n",
       "      <td>2.392</td>\n",
       "    </tr>\n",
       "    <tr>\n",
       "      <th>4</th>\n",
       "      <td>7.104</td>\n",
       "      <td>51.364</td>\n",
       "      <td>3</td>\n",
       "      <td>Pygmy three-toed sloth</td>\n",
       "      <td>5.411</td>\n",
       "      <td>3.163</td>\n",
       "    </tr>\n",
       "    <tr>\n",
       "      <th>...</th>\n",
       "      <td>...</td>\n",
       "      <td>...</td>\n",
       "      <td>...</td>\n",
       "      <td>...</td>\n",
       "      <td>...</td>\n",
       "      <td>...</td>\n",
       "    </tr>\n",
       "    <tr>\n",
       "      <th>4995</th>\n",
       "      <td>3.919</td>\n",
       "      <td>62.819</td>\n",
       "      <td>2</td>\n",
       "      <td>Hoffman’s two-toed sloth</td>\n",
       "      <td>3.176</td>\n",
       "      <td>4.247</td>\n",
       "    </tr>\n",
       "    <tr>\n",
       "      <th>4996</th>\n",
       "      <td>5.881</td>\n",
       "      <td>63.150</td>\n",
       "      <td>2</td>\n",
       "      <td>Hoffman’s two-toed sloth</td>\n",
       "      <td>1.535</td>\n",
       "      <td>4.056</td>\n",
       "    </tr>\n",
       "    <tr>\n",
       "      <th>4997</th>\n",
       "      <td>4.941</td>\n",
       "      <td>62.091</td>\n",
       "      <td>2</td>\n",
       "      <td>Hoffman’s two-toed sloth</td>\n",
       "      <td>1.905</td>\n",
       "      <td>5.194</td>\n",
       "    </tr>\n",
       "    <tr>\n",
       "      <th>4998</th>\n",
       "      <td>6.176</td>\n",
       "      <td>62.039</td>\n",
       "      <td>2</td>\n",
       "      <td>Hoffman’s two-toed sloth</td>\n",
       "      <td>1.164</td>\n",
       "      <td>5.035</td>\n",
       "    </tr>\n",
       "    <tr>\n",
       "      <th>4999</th>\n",
       "      <td>3.494</td>\n",
       "      <td>64.043</td>\n",
       "      <td>2</td>\n",
       "      <td>Hoffman’s two-toed sloth</td>\n",
       "      <td>1.512</td>\n",
       "      <td>6.384</td>\n",
       "    </tr>\n",
       "  </tbody>\n",
       "</table>\n",
       "<p>5000 rows × 6 columns</p>\n",
       "</div>"
      ],
      "text/plain": [
       "      Claw Length    Size Forelimb Toe Count                    Specie  \\\n",
       "0           6.825  52.004                  3    Pygmy three-toed sloth   \n",
       "1           8.260  50.082                  3    Pygmy three-toed sloth   \n",
       "2           8.662  51.498                  3    Pygmy three-toed sloth   \n",
       "3           8.467  50.122                  3    Pygmy three-toed sloth   \n",
       "4           7.104  51.364                  3    Pygmy three-toed sloth   \n",
       "...           ...     ...                ...                       ...   \n",
       "4995        3.919  62.819                  2  Hoffman’s two-toed sloth   \n",
       "4996        5.881  63.150                  2  Hoffman’s two-toed sloth   \n",
       "4997        4.941  62.091                  2  Hoffman’s two-toed sloth   \n",
       "4998        6.176  62.039                  2  Hoffman’s two-toed sloth   \n",
       "4999        3.494  64.043                  2  Hoffman’s two-toed sloth   \n",
       "\n",
       "      Tail Length  Weight  \n",
       "0           4.448   3.570  \n",
       "1           6.286   2.844  \n",
       "2           4.551   1.259  \n",
       "3           6.983   2.392  \n",
       "4           5.411   3.163  \n",
       "...           ...     ...  \n",
       "4995        3.176   4.247  \n",
       "4996        1.535   4.056  \n",
       "4997        1.905   5.194  \n",
       "4998        1.164   5.035  \n",
       "4999        1.512   6.384  \n",
       "\n",
       "[5000 rows x 6 columns]"
      ]
     },
     "execution_count": 199,
     "metadata": {},
     "output_type": "execute_result"
    }
   ],
   "source": [
    "df"
   ]
  },
  {
   "cell_type": "code",
   "execution_count": 200,
   "id": "684eb907-5057-4500-968d-742daabf6a12",
   "metadata": {},
   "outputs": [],
   "source": [
    "#Second Part of Converting Forelimb Toe Count string values to integers\n",
    "df.loc[:,'Forelimb Toe Count'] = pd.to_numeric(df['Forelimb Toe Count'], errors='coerce')"
   ]
  },
  {
   "cell_type": "code",
   "execution_count": 201,
   "id": "6e3de843-80c6-424f-a9b3-745d6eb0843f",
   "metadata": {},
   "outputs": [],
   "source": [
    "df['Forelimb Toe Count'] = df['Forelimb Toe Count'].astype(int)"
   ]
  },
  {
   "cell_type": "code",
   "execution_count": 202,
   "id": "51f41583-bf54-4881-8fe1-ce399adaa4e9",
   "metadata": {},
   "outputs": [
    {
     "name": "stdout",
     "output_type": "stream",
     "text": [
      "Claw Length           float64\n",
      "Size                  float64\n",
      "Forelimb Toe Count      int64\n",
      "Specie                 object\n",
      "Tail Length           float64\n",
      "Weight                float64\n",
      "dtype: object\n"
     ]
    },
    {
     "data": {
      "text/html": [
       "<div>\n",
       "<style scoped>\n",
       "    .dataframe tbody tr th:only-of-type {\n",
       "        vertical-align: middle;\n",
       "    }\n",
       "\n",
       "    .dataframe tbody tr th {\n",
       "        vertical-align: top;\n",
       "    }\n",
       "\n",
       "    .dataframe thead th {\n",
       "        text-align: right;\n",
       "    }\n",
       "</style>\n",
       "<table border=\"1\" class=\"dataframe\">\n",
       "  <thead>\n",
       "    <tr style=\"text-align: right;\">\n",
       "      <th></th>\n",
       "      <th>Claw Length</th>\n",
       "      <th>Size</th>\n",
       "      <th>Forelimb Toe Count</th>\n",
       "      <th>Tail Length</th>\n",
       "      <th>Weight</th>\n",
       "    </tr>\n",
       "  </thead>\n",
       "  <tbody>\n",
       "    <tr>\n",
       "      <th>count</th>\n",
       "      <td>5000.000000</td>\n",
       "      <td>5000.000000</td>\n",
       "      <td>5000.000000</td>\n",
       "      <td>5000.000000</td>\n",
       "      <td>5000.000000</td>\n",
       "    </tr>\n",
       "    <tr>\n",
       "      <th>mean</th>\n",
       "      <td>7.423503</td>\n",
       "      <td>60.399852</td>\n",
       "      <td>2.532400</td>\n",
       "      <td>3.410544</td>\n",
       "      <td>5.253253</td>\n",
       "    </tr>\n",
       "    <tr>\n",
       "      <th>std</th>\n",
       "      <td>1.520533</td>\n",
       "      <td>5.929968</td>\n",
       "      <td>0.498999</td>\n",
       "      <td>2.333288</td>\n",
       "      <td>1.268203</td>\n",
       "    </tr>\n",
       "    <tr>\n",
       "      <th>min</th>\n",
       "      <td>1.748000</td>\n",
       "      <td>46.928000</td>\n",
       "      <td>2.000000</td>\n",
       "      <td>-2.942000</td>\n",
       "      <td>0.946000</td>\n",
       "    </tr>\n",
       "    <tr>\n",
       "      <th>25%</th>\n",
       "      <td>6.383750</td>\n",
       "      <td>59.904750</td>\n",
       "      <td>2.000000</td>\n",
       "      <td>1.440250</td>\n",
       "      <td>4.382500</td>\n",
       "    </tr>\n",
       "    <tr>\n",
       "      <th>50%</th>\n",
       "      <td>7.445000</td>\n",
       "      <td>62.478500</td>\n",
       "      <td>3.000000</td>\n",
       "      <td>3.812000</td>\n",
       "      <td>5.274000</td>\n",
       "    </tr>\n",
       "    <tr>\n",
       "      <th>75%</th>\n",
       "      <td>8.491500</td>\n",
       "      <td>64.398250</td>\n",
       "      <td>3.000000</td>\n",
       "      <td>5.351250</td>\n",
       "      <td>6.125250</td>\n",
       "    </tr>\n",
       "    <tr>\n",
       "      <th>max</th>\n",
       "      <td>12.171000</td>\n",
       "      <td>68.760000</td>\n",
       "      <td>3.000000</td>\n",
       "      <td>8.538000</td>\n",
       "      <td>9.997000</td>\n",
       "    </tr>\n",
       "  </tbody>\n",
       "</table>\n",
       "</div>"
      ],
      "text/plain": [
       "       Claw Length         Size  Forelimb Toe Count  Tail Length       Weight\n",
       "count  5000.000000  5000.000000         5000.000000  5000.000000  5000.000000\n",
       "mean      7.423503    60.399852            2.532400     3.410544     5.253253\n",
       "std       1.520533     5.929968            0.498999     2.333288     1.268203\n",
       "min       1.748000    46.928000            2.000000    -2.942000     0.946000\n",
       "25%       6.383750    59.904750            2.000000     1.440250     4.382500\n",
       "50%       7.445000    62.478500            3.000000     3.812000     5.274000\n",
       "75%       8.491500    64.398250            3.000000     5.351250     6.125250\n",
       "max      12.171000    68.760000            3.000000     8.538000     9.997000"
      ]
     },
     "execution_count": 202,
     "metadata": {},
     "output_type": "execute_result"
    }
   ],
   "source": [
    "print(df.dtypes)\n",
    "df.describe()"
   ]
  },
  {
   "cell_type": "code",
   "execution_count": 203,
   "id": "e17f8a79-75f6-4664-b501-dd1cdbf632ee",
   "metadata": {},
   "outputs": [
    {
     "data": {
      "text/plain": [
       "Claw Length           0\n",
       "Size                  0\n",
       "Forelimb Toe Count    0\n",
       "Specie                0\n",
       "Tail Length           0\n",
       "Weight                0\n",
       "dtype: int64"
      ]
     },
     "execution_count": 203,
     "metadata": {},
     "output_type": "execute_result"
    }
   ],
   "source": [
    "#Looking for any null data \n",
    "df.isnull().sum()"
   ]
  },
  {
   "cell_type": "code",
   "execution_count": 204,
   "id": "d6d8dff0-db7e-4ec9-a063-00f9d5da90c7",
   "metadata": {},
   "outputs": [
    {
     "name": "stdout",
     "output_type": "stream",
     "text": [
      "      Claw Length    Size  Forelimb Toe Count                     Specie  \\\n",
      "2663        9.203  67.519                   2  Linnaeus’s two-toed sloth   \n",
      "2664        9.574  65.167                   2  Linnaeus’s two-toed sloth   \n",
      "2667        7.748  64.756                   2  Linnaeus’s two-toed sloth   \n",
      "2669        7.470  63.149                   2  Linnaeus’s two-toed sloth   \n",
      "2672        7.645  66.346                   2  Linnaeus’s two-toed sloth   \n",
      "...           ...     ...                 ...                        ...   \n",
      "4476        6.029  63.372                   2   Hoffman’s two-toed sloth   \n",
      "4521        6.158  63.630                   2   Hoffman’s two-toed sloth   \n",
      "4532        6.824  63.100                   2   Hoffman’s two-toed sloth   \n",
      "4853        3.769  62.904                   2   Hoffman’s two-toed sloth   \n",
      "4982        3.759  61.971                   2   Hoffman’s two-toed sloth   \n",
      "\n",
      "      Tail Length  Weight  \n",
      "2663       -1.006   6.349  \n",
      "2664       -0.030   6.125  \n",
      "2667       -1.163   6.004  \n",
      "2669       -0.453   5.917  \n",
      "2672       -1.339   5.594  \n",
      "...           ...     ...  \n",
      "4476       -0.149   5.183  \n",
      "4521       -0.449   6.967  \n",
      "4532       -0.052   5.697  \n",
      "4853       -0.257   6.218  \n",
      "4982       -0.639   5.574  \n",
      "\n",
      "[435 rows x 6 columns]\n"
     ]
    }
   ],
   "source": [
    "#Checking to see if any data equals zero or is negative\n",
    "rows_with_values_below_or_equal_to_zero = df[df['Tail Length'] <= 0]\n",
    "print(rows_with_values_below_or_equal_to_zero)"
   ]
  },
  {
   "cell_type": "code",
   "execution_count": 205,
   "id": "640e3874-f62f-42b3-93b8-8ce2724ef715",
   "metadata": {},
   "outputs": [
    {
     "data": {
      "text/plain": [
       "Specie\n",
       "Brown-throated sloth         1002\n",
       "Hoffman’s two-toed sloth     1198\n",
       "Linnaeus’s two-toed sloth    1140\n",
       "Maned three-toed sloth        537\n",
       "Pale-throated sloth          1050\n",
       "Pygmy three-toed sloth         73\n",
       "dtype: int64"
      ]
     },
     "metadata": {},
     "output_type": "display_data"
    }
   ],
   "source": [
    "num_species = df.groupby(by='Specie').size();\n",
    "display(num_species);"
   ]
  },
  {
   "cell_type": "code",
   "execution_count": 206,
   "id": "3d0b9b32-6f6e-4cac-8f29-4112b9cc1f87",
   "metadata": {},
   "outputs": [
    {
     "data": {
      "text/plain": [
       "Specie\n",
       "Hoffman’s two-toed sloth       9\n",
       "Linnaeus’s two-toed sloth    426\n",
       "dtype: int64"
      ]
     },
     "metadata": {},
     "output_type": "display_data"
    },
    {
     "data": {
      "image/png": "[encoded data removed]",
      "text/plain": [
       "<Figure size 640x480 with 1 Axes>"
      ]
     },
     "metadata": {},
     "output_type": "display_data"
    }
   ],
   "source": [
    "#See what species had the unwanted data\n",
    "num_species_with_unwanted_values = rows_with_values_below_or_equal_to_zero.groupby(by='Specie').size();\n",
    "display(num_species_with_unwanted_values);\n",
    "plot = (num_species_with_unwanted_values).plot.bar(color=['red','orange'],rot=45)"
   ]
  },
  {
   "cell_type": "code",
   "execution_count": 207,
   "id": "bcc7b199-d7c3-4577-8b25-1c2ad3ec6d5e",
   "metadata": {},
   "outputs": [
    {
     "data": {
      "text/plain": [
       "Specie\n",
       "Brown-throated sloth         1002\n",
       "Hoffman’s two-toed sloth     1198\n",
       "Linnaeus’s two-toed sloth    1140\n",
       "Maned three-toed sloth        537\n",
       "Pale-throated sloth          1050\n",
       "Pygmy three-toed sloth         73\n",
       "dtype: int64"
      ]
     },
     "metadata": {},
     "output_type": "display_data"
    },
    {
     "data": {
      "image/png": "[encoded data removed]",
      "text/plain": [
       "<Figure size 640x480 with 1 Axes>"
      ]
     },
     "metadata": {},
     "output_type": "display_data"
    }
   ],
   "source": [
    "num_species = df.groupby(by='Specie').size();\n",
    "display(num_species);\n",
    "plot = num_species.plot.bar(color=['red','orange','yellow','green','blue','purple'],rot=45)"
   ]
  },
  {
   "cell_type": "code",
   "execution_count": 208,
   "id": "6203f766-a8ae-4586-b48d-fc5ee36c0899",
   "metadata": {},
   "outputs": [],
   "source": [
    "#Remove unwanted data\n",
    "df = df[df['Tail Length'] > 0]"
   ]
  },
  {
   "cell_type": "code",
   "execution_count": 209,
   "id": "88119b0f-5b15-46b0-b286-7e4f9a51d1ef",
   "metadata": {},
   "outputs": [
    {
     "data": {
      "text/plain": [
       "Specie\n",
       "Brown-throated sloth         1002\n",
       "Hoffman’s two-toed sloth     1189\n",
       "Linnaeus’s two-toed sloth     714\n",
       "Maned three-toed sloth        537\n",
       "Pale-throated sloth          1050\n",
       "Pygmy three-toed sloth         73\n",
       "dtype: int64"
      ]
     },
     "metadata": {},
     "output_type": "display_data"
    },
    {
     "data": {
      "image/png": "[encoded data removed]",
      "text/plain": [
       "<Figure size 640x480 with 1 Axes>"
      ]
     },
     "metadata": {},
     "output_type": "display_data"
    }
   ],
   "source": [
    "#Visualize Species Distribution after removal of unwanted data\n",
    "num_species = df.groupby(by='Specie').size();\n",
    "display(num_species);\n",
    "plot = num_species.plot.bar(color=['red','orange','yellow','green','blue','purple'],rot=45)"
   ]
  },
  {
   "cell_type": "code",
   "execution_count": 210,
   "id": "c05a2763-9f70-4ede-a456-2f78b2b9a7ff",
   "metadata": {},
   "outputs": [],
   "source": [
    "#Remove Pygmy three-toed sloth from data\n",
    "df = df[df['Specie'] != 'Pygmy three-toed sloth']\n"
   ]
  },
  {
   "cell_type": "code",
   "execution_count": 211,
   "id": "03528117-88b6-4c0f-b0f2-46d8b3bac428",
   "metadata": {},
   "outputs": [
    {
     "data": {
      "text/plain": [
       "Specie\n",
       "Brown-throated sloth         1002\n",
       "Hoffman’s two-toed sloth     1189\n",
       "Linnaeus’s two-toed sloth     714\n",
       "Maned three-toed sloth        537\n",
       "Pale-throated sloth          1050\n",
       "dtype: int64"
      ]
     },
     "metadata": {},
     "output_type": "display_data"
    },
    {
     "data": {
      "image/png": "[encoded data removed]",
      "text/plain": [
       "<Figure size 640x480 with 1 Axes>"
      ]
     },
     "metadata": {},
     "output_type": "display_data"
    }
   ],
   "source": [
    "#Visualize Species Distribution after removal of Pygmy Sloth data\n",
    "num_species = df.groupby(by='Specie').size();\n",
    "display(num_species);\n",
    "plot = num_species.plot.bar(color=['red','orange','yellow','green','blue'],rot=45)"
   ]
  },
  {
   "cell_type": "code",
   "execution_count": 212,
   "id": "d6ed7854-8eb8-4419-989a-9a622a4c7702",
   "metadata": {},
   "outputs": [
    {
     "data": {
      "text/html": [
       "<div>\n",
       "<style scoped>\n",
       "    .dataframe tbody tr th:only-of-type {\n",
       "        vertical-align: middle;\n",
       "    }\n",
       "\n",
       "    .dataframe tbody tr th {\n",
       "        vertical-align: top;\n",
       "    }\n",
       "\n",
       "    .dataframe thead th {\n",
       "        text-align: right;\n",
       "    }\n",
       "</style>\n",
       "<table border=\"1\" class=\"dataframe\">\n",
       "  <thead>\n",
       "    <tr style=\"text-align: right;\">\n",
       "      <th></th>\n",
       "      <th>Claw Length</th>\n",
       "      <th>Size</th>\n",
       "      <th>Forelimb Toe Count</th>\n",
       "      <th>Tail Length</th>\n",
       "      <th>Weight</th>\n",
       "    </tr>\n",
       "  </thead>\n",
       "  <tbody>\n",
       "    <tr>\n",
       "      <th>count</th>\n",
       "      <td>4492.000000</td>\n",
       "      <td>4492.000000</td>\n",
       "      <td>4492.000000</td>\n",
       "      <td>4492.000000</td>\n",
       "      <td>4492.000000</td>\n",
       "    </tr>\n",
       "    <tr>\n",
       "      <th>mean</th>\n",
       "      <td>7.277353</td>\n",
       "      <td>60.032894</td>\n",
       "      <td>2.576358</td>\n",
       "      <td>3.776923</td>\n",
       "      <td>5.190785</td>\n",
       "    </tr>\n",
       "    <tr>\n",
       "      <th>std</th>\n",
       "      <td>1.482154</td>\n",
       "      <td>5.857144</td>\n",
       "      <td>0.494190</td>\n",
       "      <td>2.038821</td>\n",
       "      <td>1.213904</td>\n",
       "    </tr>\n",
       "    <tr>\n",
       "      <th>min</th>\n",
       "      <td>1.748000</td>\n",
       "      <td>46.928000</td>\n",
       "      <td>2.000000</td>\n",
       "      <td>0.001000</td>\n",
       "      <td>0.946000</td>\n",
       "    </tr>\n",
       "    <tr>\n",
       "      <th>25%</th>\n",
       "      <td>6.273000</td>\n",
       "      <td>59.544500</td>\n",
       "      <td>2.000000</td>\n",
       "      <td>1.974750</td>\n",
       "      <td>4.343000</td>\n",
       "    </tr>\n",
       "    <tr>\n",
       "      <th>50%</th>\n",
       "      <td>7.277000</td>\n",
       "      <td>62.167500</td>\n",
       "      <td>3.000000</td>\n",
       "      <td>4.145500</td>\n",
       "      <td>5.181500</td>\n",
       "    </tr>\n",
       "    <tr>\n",
       "      <th>75%</th>\n",
       "      <td>8.298250</td>\n",
       "      <td>63.858250</td>\n",
       "      <td>3.000000</td>\n",
       "      <td>5.427500</td>\n",
       "      <td>6.019500</td>\n",
       "    </tr>\n",
       "    <tr>\n",
       "      <th>max</th>\n",
       "      <td>12.171000</td>\n",
       "      <td>68.760000</td>\n",
       "      <td>3.000000</td>\n",
       "      <td>8.538000</td>\n",
       "      <td>9.997000</td>\n",
       "    </tr>\n",
       "  </tbody>\n",
       "</table>\n",
       "</div>"
      ],
      "text/plain": [
       "       Claw Length         Size  Forelimb Toe Count  Tail Length       Weight\n",
       "count  4492.000000  4492.000000         4492.000000  4492.000000  4492.000000\n",
       "mean      7.277353    60.032894            2.576358     3.776923     5.190785\n",
       "std       1.482154     5.857144            0.494190     2.038821     1.213904\n",
       "min       1.748000    46.928000            2.000000     0.001000     0.946000\n",
       "25%       6.273000    59.544500            2.000000     1.974750     4.343000\n",
       "50%       7.277000    62.167500            3.000000     4.145500     5.181500\n",
       "75%       8.298250    63.858250            3.000000     5.427500     6.019500\n",
       "max      12.171000    68.760000            3.000000     8.538000     9.997000"
      ]
     },
     "execution_count": 212,
     "metadata": {},
     "output_type": "execute_result"
    }
   ],
   "source": [
    "#Getting Statistical Info on the cleaned data\n",
    "df.describe()"
   ]
  },
  {
   "cell_type": "code",
   "execution_count": 213,
   "id": "041d2e68-077b-4024-a75f-d97849833701",
   "metadata": {},
   "outputs": [],
   "source": [
    "#Data is cleaned, Time to start training the model\n",
    "X = df.drop(columns = 'Specie') #Independent Variables\n",
    "y = df['Specie'] #Dependent Variable"
   ]
  },
  {
   "cell_type": "code",
   "execution_count": 214,
   "id": "29513229-6c16-4930-aac5-40599e17107e",
   "metadata": {},
   "outputs": [],
   "source": [
    "#Split the Data into 30% testing and 70% training \n",
    "X_train,X_test, y_train, y_test = train_test_split(X,y,test_size=0.3,random_state=11)"
   ]
  },
  {
   "cell_type": "code",
   "execution_count": 215,
   "id": "4efedfa2-3fb8-4df9-9152-eed4eafdf7c9",
   "metadata": {},
   "outputs": [
    {
     "data": {
      "text/plain": [
       "<bound method NDFrame.head of       Claw Length    Size  Forelimb Toe Count  Tail Length  Weight\n",
       "73          5.746  65.815                   3        5.069   4.175\n",
       "74          9.977  63.677                   3        5.464   4.976\n",
       "75          8.857  64.526                   3        6.742   5.847\n",
       "76          8.941  63.789                   3        5.250   7.087\n",
       "77          7.825  63.747                   3        5.422   4.951\n",
       "...           ...     ...                 ...          ...     ...\n",
       "4995        3.919  62.819                   2        3.176   4.247\n",
       "4996        5.881  63.150                   2        1.535   4.056\n",
       "4997        4.941  62.091                   2        1.905   5.194\n",
       "4998        6.176  62.039                   2        1.164   5.035\n",
       "4999        3.494  64.043                   2        1.512   6.384\n",
       "\n",
       "[4492 rows x 5 columns]>"
      ]
     },
     "execution_count": 215,
     "metadata": {},
     "output_type": "execute_result"
    }
   ],
   "source": [
    "#Check Independent Variables\n",
    "X.head"
   ]
  },
  {
   "cell_type": "code",
   "execution_count": 216,
   "id": "9a384422-2ae9-47b3-b6a2-8996d63d6e09",
   "metadata": {},
   "outputs": [],
   "source": [
    "scaler = StandardScaler()"
   ]
  },
  {
   "cell_type": "code",
   "execution_count": 217,
   "id": "0d53c992-de10-413a-8e22-b902752e28cb",
   "metadata": {},
   "outputs": [],
   "source": [
    "#Scaling the data\n",
    "X_train_scaled = scaler.fit_transform(X_train)"
   ]
  },
  {
   "cell_type": "code",
   "execution_count": 218,
   "id": "f859855c-b136-4a0f-bdfe-1770f9d03dc5",
   "metadata": {},
   "outputs": [],
   "source": [
    "X_test_scaled = scaler.transform(X_test)"
   ]
  },
  {
   "cell_type": "code",
   "execution_count": 219,
   "id": "72d4eba1-ea6e-4357-a0c3-f1be2807233e",
   "metadata": {},
   "outputs": [
    {
     "data": {
      "text/plain": [
       "array([[ 9.98502475e-01, -1.58034709e+00,  8.60174626e-01,\n",
       "         7.51264216e-01, -4.13642406e-01],\n",
       "       [-6.84155662e-02, -1.76290702e+00,  8.60174626e-01,\n",
       "         6.24414622e-01, -8.61723906e-01],\n",
       "       [ 5.66041414e-01, -1.43467485e+00,  8.60174626e-01,\n",
       "         4.97075262e-01,  3.77217434e-02],\n",
       "       ...,\n",
       "       [ 1.32224675e-01,  6.10713660e-01, -1.16255464e+00,\n",
       "        -7.99827146e-01,  2.33039321e-01],\n",
       "       [-6.79148193e-01,  6.96272618e-01, -1.16255464e+00,\n",
       "        -4.16339765e-01,  1.14643623e+00],\n",
       "       [-5.89673491e-01,  6.21799784e-02,  8.60174626e-01,\n",
       "         1.35955454e+00,  7.91949357e-04]])"
      ]
     },
     "execution_count": 219,
     "metadata": {},
     "output_type": "execute_result"
    }
   ],
   "source": [
    "X_train_scaled"
   ]
  },
  {
   "cell_type": "code",
   "execution_count": 220,
   "id": "f4a3efae-0c81-487f-aa9b-e61e5ee4d563",
   "metadata": {},
   "outputs": [
    {
     "data": {
      "text/plain": [
       "array([[ 0.35726711,  0.67168082,  0.86017463,  0.73412238, -0.23309675],\n",
       "       [ 0.82090875, -1.36448577,  0.86017463,  1.78369257,  0.37911717],\n",
       "       [ 0.24203454,  1.22055606, -1.16255464, -1.47766436, -0.27330919],\n",
       "       ...,\n",
       "       [-0.07926098,  0.63991642, -1.16255464,  0.02004243, -0.97251329],\n",
       "       [ 0.32608653, -1.82011711,  0.86017463,  0.35553267, -0.33239686],\n",
       "       [-0.17144704,  0.03929595,  0.86017463, -0.52114985, -0.99220918]])"
      ]
     },
     "execution_count": 220,
     "metadata": {},
     "output_type": "execute_result"
    }
   ],
   "source": [
    "X_test_scaled"
   ]
  },
  {
   "cell_type": "code",
   "execution_count": 221,
   "id": "20f65d7a-2efe-499a-83c6-3e9bcda49a14",
   "metadata": {},
   "outputs": [],
   "source": [
    "#Train Model\n",
    "model = LogisticRegression(random_state=10).fit(X_train_scaled,y_train)"
   ]
  },
  {
   "cell_type": "code",
   "execution_count": 222,
   "id": "7f3a4441-012e-4887-822a-8c2615100547",
   "metadata": {},
   "outputs": [
    {
     "data": {
      "text/plain": [
       "array(['Pale-throated sloth', 'Pale-throated sloth',\n",
       "       'Pale-throated sloth', ..., 'Hoffman’s two-toed sloth',\n",
       "       'Hoffman’s two-toed sloth', 'Brown-throated sloth'], dtype=object)"
      ]
     },
     "execution_count": 222,
     "metadata": {},
     "output_type": "execute_result"
    }
   ],
   "source": [
    "#Test the model\n",
    "model.predict(X_train_scaled)"
   ]
  },
  {
   "cell_type": "code",
   "execution_count": 223,
   "id": "f02670bc-da4b-496b-8e3e-268d403c2f2a",
   "metadata": {},
   "outputs": [
    {
     "name": "stdout",
     "output_type": "stream",
     "text": [
      "0.9729643765903307\n"
     ]
    }
   ],
   "source": [
    "print(model.score(X_train_scaled,y_train))"
   ]
  },
  {
   "cell_type": "code",
   "execution_count": 224,
   "id": "244a1115-5775-4c77-874c-c865e03124fd",
   "metadata": {},
   "outputs": [
    {
     "name": "stdout",
     "output_type": "stream",
     "text": [
      "0.9629080118694362\n"
     ]
    }
   ],
   "source": [
    "model.score(X_test_scaled,y_test)\n",
    "print(model.score(X_test_scaled,y_test))"
   ]
  },
  {
   "cell_type": "code",
   "execution_count": 225,
   "id": "de8caa87-1633-41f7-aec6-17beac4690c4",
   "metadata": {},
   "outputs": [
    {
     "name": "stdout",
     "output_type": "stream",
     "text": [
      "                           precision    recall  f1-score   support\n",
      "\n",
      "     Brown-throated sloth       0.93      0.94      0.93       302\n",
      " Hoffman’s two-toed sloth       0.98      0.99      0.99       353\n",
      "Linnaeus’s two-toed sloth       0.98      0.97      0.98       213\n",
      "   Maned three-toed sloth       0.89      0.87      0.88       168\n",
      "      Pale-throated sloth       1.00      1.00      1.00       312\n",
      "\n",
      "                 accuracy                           0.96      1348\n",
      "                macro avg       0.96      0.95      0.96      1348\n",
      "             weighted avg       0.96      0.96      0.96      1348\n",
      "\n"
     ]
    }
   ],
   "source": [
    "#Generate Classification Report\n",
    "predictions = model.predict(X_test_scaled)\n",
    "report = classification_report(y_test,predictions)\n",
    "print(report)"
   ]
  },
  {
   "cell_type": "code",
   "execution_count": 226,
   "id": "a4bc50f2-76db-46cf-b14c-49f27976d07b",
   "metadata": {},
   "outputs": [],
   "source": [
    "#Generate Confusion Matrix\n",
    "cm = confusion_matrix(y_test,predictions)"
   ]
  },
  {
   "cell_type": "code",
   "execution_count": 227,
   "id": "619d05de-1d8b-470f-95ea-4969ff22d6f8",
   "metadata": {},
   "outputs": [
    {
     "data": {
      "image/png": "[encoded data removed]",
      "text/plain": [
       "<Figure size 640x480 with 2 Axes>"
      ]
     },
     "metadata": {},
     "output_type": "display_data"
    }
   ],
   "source": [
    "#Display Confusion Matrix \n",
    "disp = ConfusionMatrixDisplay(confusion_matrix = cm, display_labels = model.classes_)\n",
    "disp.plot(cmap ='Blues',)\n",
    "plt.title('Confusion Matrix')\n",
    "plt.xticks(rotation = 85)\n",
    "plt.show()\n"
   ]
  },
  {
   "cell_type": "code",
   "execution_count": 228,
   "id": "dd037b5f-3e96-406b-b398-36685642981f",
   "metadata": {},
   "outputs": [
    {
     "data": {
      "application/vnd.jupyter.widget-view+json": {
       "model_id": "b52b4978256e477a920129366e6959de",
       "version_major": 2,
       "version_minor": 0
      },
      "text/plain": [
       "HTML(value='<h1 style=color:#34b575> Sloth Species Sleuth </h1>')"
      ]
     },
     "metadata": {},
     "output_type": "display_data"
    },
    {
     "data": {
      "application/vnd.jupyter.widget-view+json": {
       "model_id": "d72825abb4fc438c8a96acdf864d4b69",
       "version_major": 2,
       "version_minor": 0
      },
      "text/plain": [
       "HTML(value='<h2 style=color:#34b575> Enter your Data below </h2>')"
      ]
     },
     "metadata": {},
     "output_type": "display_data"
    },
    {
     "data": {
      "application/vnd.jupyter.widget-view+json": {
       "model_id": "868faa2c5ed24831ba271f94d8a4ef72",
       "version_major": 2,
       "version_minor": 0
      },
      "text/plain": [
       "VBox(children=(FloatText(value=0.0, description='Claw Length(cm) :', style=DescriptionStyle(description_width=…"
      ]
     },
     "metadata": {},
     "output_type": "display_data"
    }
   ],
   "source": [
    "#Creating a UI\n",
    "header_html = widgets.HTML(\"<h1 style=color:#34b575> Sloth Species Sleuth </h1>\")\n",
    "display(header_html)\n",
    "sub_header_html = widgets.HTML(\"<h2 style=color:#34b575> Enter your Data below </h2>\")\n",
    "display(sub_header_html)\n",
    "cl_widget = widgets.FloatText(description='Claw Length(cm) :',style={'description_width': 'initial'})\n",
    "s_widget = widgets.FloatText(description='Size(cm) :')\n",
    "f_widget = widgets.Dropdown(description='Forelimb Toe Count :',options=[2,3],style={'description_width': 'initial'})\n",
    "t_widget = widgets.FloatText(description='Tail Length(cm) :',style={'description_width': 'initial'})\n",
    "w_widget = widgets.FloatText(description='Weight(kg) :')\n",
    "\n",
    "button_predict = widgets.Button(description='Predict the Species')\n",
    "button_predict.style.button_color='#7ecca0'\n",
    "\n",
    "output = widgets.Output()\n",
    "\n",
    "def on_click_predict(b):\n",
    "    with output:\n",
    "        output.clear_output()\n",
    "        input_data=pd.DataFrame([[cl_widget.value,s_widget.value,f_widget.value,t_widget.value,w_widget.value]],\n",
    "                               columns = ['Claw Length', 'Size', 'Forelimb Toe Count', 'Tail Length','Weight'])\n",
    "        input_data_scaled = scaler.transform(input_data)\n",
    "        predict= model.predict(input_data_scaled)\n",
    "        print(f\" You most likely found {predict[0]}!\")\n",
    "button_predict.on_click(on_click_predict)\n",
    "\n",
    "vb = widgets.VBox([cl_widget,s_widget,f_widget,t_widget,w_widget,button_predict,output])\n",
    "display(vb)\n"
   ]
  },
  {
   "cell_type": "code",
   "execution_count": null,
   "id": "5449690d-4235-4946-b6e0-a656a7d0acef",
   "metadata": {},
   "outputs": [],
   "source": []
  }
 ],
 "metadata": {
  "kernelspec": {
   "display_name": "Python 3 (ipykernel)",
   "language": "python",
   "name": "python3"
  },
  "language_info": {
   "codemirror_mode": {
    "name": "ipython",
    "version": 3
   },
   "file_extension": ".py",
   "mimetype": "text/x-python",
   "name": "python",
   "nbconvert_exporter": "python",
   "pygments_lexer": "ipython3",
   "version": "3.12.2"
  }
 },
 "nbformat": 4,
 "nbformat_minor": 5
}
